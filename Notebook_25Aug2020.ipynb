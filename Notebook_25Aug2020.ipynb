{
 "cells": [
  {
   "cell_type": "markdown",
   "metadata": {},
   "source": [
    "## Write a Python function program which accepts a list of values and returns the two separate lists one containing the even numbers and other containing the odd numbers. The program should also return the maximum and minimum in both lists."
   ]
  },
  {
   "cell_type": "code",
   "execution_count": 1,
   "metadata": {},
   "outputs": [
    {
     "name": "stdout",
     "output_type": "stream",
     "text": [
      "Enter the list: [1,2,3,5]\n"
     ]
    }
   ],
   "source": [
    "x = input('Enter the list: ')"
   ]
  },
  {
   "cell_type": "code",
   "execution_count": 2,
   "metadata": {},
   "outputs": [
    {
     "name": "stdout",
     "output_type": "stream",
     "text": [
      "[1,2,3,5]\n"
     ]
    }
   ],
   "source": [
    "print(x)"
   ]
  },
  {
   "cell_type": "code",
   "execution_count": 3,
   "metadata": {},
   "outputs": [
    {
     "data": {
      "text/plain": [
       "str"
      ]
     },
     "execution_count": 3,
     "metadata": {},
     "output_type": "execute_result"
    }
   ],
   "source": [
    "type(x)"
   ]
  },
  {
   "cell_type": "code",
   "execution_count": 8,
   "metadata": {},
   "outputs": [
    {
     "name": "stdout",
     "output_type": "stream",
     "text": [
      "Enter the number1\n",
      "Enter the number2\n",
      "Enter the number4\n",
      "Enter the number6\n",
      "Enter the number8\n",
      "Enter the number5\n",
      "Enter the number7\n",
      "Enter the number11\n",
      "Enter the numberx\n"
     ]
    }
   ],
   "source": [
    "nos = []\n",
    "while 1:\n",
    "    ch = input('Enter the number')\n",
    "    if ch.upper() == 'X':\n",
    "        break\n",
    "    else:\n",
    "        nos.append(int(ch))"
   ]
  },
  {
   "cell_type": "markdown",
   "metadata": {},
   "source": [
    "print(nos)"
   ]
  },
  {
   "cell_type": "code",
   "execution_count": 9,
   "metadata": {},
   "outputs": [
    {
     "data": {
      "text/plain": [
       "[1, 2, 4, 6, 8, 5, 7, 11]"
      ]
     },
     "execution_count": 9,
     "metadata": {},
     "output_type": "execute_result"
    }
   ],
   "source": [
    "nos"
   ]
  },
  {
   "cell_type": "code",
   "execution_count": 10,
   "metadata": {},
   "outputs": [
    {
     "data": {
      "text/plain": [
       "list"
      ]
     },
     "execution_count": 10,
     "metadata": {},
     "output_type": "execute_result"
    }
   ],
   "source": [
    "type(nos)"
   ]
  },
  {
   "cell_type": "code",
   "execution_count": 11,
   "metadata": {},
   "outputs": [
    {
     "name": "stdout",
     "output_type": "stream",
     "text": [
      "Enter the numbers separated by space3 2 4 7 11 24 12\n"
     ]
    }
   ],
   "source": [
    "nos = input('Enter the numbers separated by space')"
   ]
  },
  {
   "cell_type": "code",
   "execution_count": 12,
   "metadata": {},
   "outputs": [
    {
     "data": {
      "text/plain": [
       "str"
      ]
     },
     "execution_count": 12,
     "metadata": {},
     "output_type": "execute_result"
    }
   ],
   "source": [
    "type(nos)"
   ]
  },
  {
   "cell_type": "code",
   "execution_count": 13,
   "metadata": {},
   "outputs": [],
   "source": [
    "nos = nos.split()"
   ]
  },
  {
   "cell_type": "code",
   "execution_count": 14,
   "metadata": {},
   "outputs": [
    {
     "data": {
      "text/plain": [
       "list"
      ]
     },
     "execution_count": 14,
     "metadata": {},
     "output_type": "execute_result"
    }
   ],
   "source": [
    "type(nos)"
   ]
  },
  {
   "cell_type": "code",
   "execution_count": 16,
   "metadata": {},
   "outputs": [
    {
     "ename": "NameError",
     "evalue": "name 'length' is not defined",
     "output_type": "error",
     "traceback": [
      "\u001b[1;31m---------------------------------------------------------------------------\u001b[0m",
      "\u001b[1;31mNameError\u001b[0m                                 Traceback (most recent call last)",
      "\u001b[1;32m<ipython-input-16-e6c8d618fd6a>\u001b[0m in \u001b[0;36m<module>\u001b[1;34m\u001b[0m\n\u001b[1;32m----> 1\u001b[1;33m \u001b[0mlength\u001b[0m\u001b[1;33m(\u001b[0m\u001b[0mnos\u001b[0m\u001b[1;33m)\u001b[0m\u001b[1;33m\u001b[0m\u001b[1;33m\u001b[0m\u001b[0m\n\u001b[0m",
      "\u001b[1;31mNameError\u001b[0m: name 'length' is not defined"
     ]
    }
   ],
   "source": []
  },
  {
   "cell_type": "code",
   "execution_count": 33,
   "metadata": {},
   "outputs": [
    {
     "name": "stdout",
     "output_type": "stream",
     "text": [
      "Enter the numbers separated by space: 2 4 63 24 8\n",
      "Even numbers:  [2, 4, 24, 8]\n",
      "Odd numbers:  [63]\n",
      "Maximum in even numbers:  24\n",
      "Minimum in even numbers:  2\n",
      "Maximum in odd numbers:  63\n",
      "Minimum in odd numbers:  63\n"
     ]
    }
   ],
   "source": [
    "nos = input('Enter the numbers separated by space: ')\n",
    "nos = nos.split(\" \")\n",
    "\"\"\"\n",
    "even = []\n",
    "odd = []\n",
    "\n",
    "for i in nos:\n",
    "    if (int(i)%2 == 0):\n",
    "        even.append(int(i))\n",
    "    else:\n",
    "        odd.append(int(i))\n",
    "\"\"\"\n",
    "even = [int(i) for i in nos if int(i)%2 == 0]\n",
    "odd = [int(i) for i in nos if int(i)%2 != 0]\n",
    "\n",
    "print('Even numbers: ',even)\n",
    "print('Odd numbers: ',odd)\n",
    "print('Maximum in even numbers: ',max(even))\n",
    "print('Minimum in even numbers: ',min(even))\n",
    "print('Maximum in odd numbers: ',max(odd))\n",
    "print('Minimum in odd numbers: ',min(odd))"
   ]
  },
  {
   "cell_type": "code",
   "execution_count": 24,
   "metadata": {},
   "outputs": [],
   "source": [
    "# Generate 10 number from 10 to 20\n",
    "\n",
    "x = [i for i in range(10,20+1)]"
   ]
  },
  {
   "cell_type": "code",
   "execution_count": 25,
   "metadata": {},
   "outputs": [
    {
     "name": "stdout",
     "output_type": "stream",
     "text": [
      "[10, 11, 12, 13, 14, 15, 16, 17, 18, 19, 20]\n"
     ]
    }
   ],
   "source": [
    "print(x)"
   ]
  },
  {
   "cell_type": "code",
   "execution_count": 26,
   "metadata": {},
   "outputs": [],
   "source": [
    "even = [i for i in range(10,20+1) if i%2 == 0]"
   ]
  },
  {
   "cell_type": "code",
   "execution_count": 27,
   "metadata": {},
   "outputs": [
    {
     "data": {
      "text/plain": [
       "[10, 12, 14, 16, 18, 20]"
      ]
     },
     "execution_count": 27,
     "metadata": {},
     "output_type": "execute_result"
    }
   ],
   "source": [
    "even"
   ]
  },
  {
   "cell_type": "code",
   "execution_count": 28,
   "metadata": {},
   "outputs": [],
   "source": [
    "odd = [i for i in range(10,20+1) if i%2 != 0]"
   ]
  },
  {
   "cell_type": "code",
   "execution_count": 29,
   "metadata": {},
   "outputs": [
    {
     "data": {
      "text/plain": [
       "[11, 13, 15, 17, 19]"
      ]
     },
     "execution_count": 29,
     "metadata": {},
     "output_type": "execute_result"
    }
   ],
   "source": [
    "odd"
   ]
  },
  {
   "cell_type": "code",
   "execution_count": 35,
   "metadata": {},
   "outputs": [
    {
     "name": "stdout",
     "output_type": "stream",
     "text": [
      "( 10 , 15 )\n",
      "( 10 , 16 )\n",
      "( 10 , 17 )\n",
      "( 10 , 18 )\n",
      "( 10 , 19 )\n",
      "( 10 , 20 )\n",
      "( 10 , 21 )\n",
      "( 10 , 22 )\n",
      "( 10 , 23 )\n",
      "( 10 , 24 )\n",
      "( 11 , 15 )\n",
      "( 11 , 16 )\n",
      "( 11 , 17 )\n",
      "( 11 , 18 )\n",
      "( 11 , 19 )\n",
      "( 11 , 20 )\n",
      "( 11 , 21 )\n",
      "( 11 , 22 )\n",
      "( 11 , 23 )\n",
      "( 11 , 24 )\n",
      "( 12 , 15 )\n",
      "( 12 , 16 )\n",
      "( 12 , 17 )\n",
      "( 12 , 18 )\n",
      "( 12 , 19 )\n",
      "( 12 , 20 )\n",
      "( 12 , 21 )\n",
      "( 12 , 22 )\n",
      "( 12 , 23 )\n",
      "( 12 , 24 )\n",
      "( 13 , 15 )\n",
      "( 13 , 16 )\n",
      "( 13 , 17 )\n",
      "( 13 , 18 )\n",
      "( 13 , 19 )\n",
      "( 13 , 20 )\n",
      "( 13 , 21 )\n",
      "( 13 , 22 )\n",
      "( 13 , 23 )\n",
      "( 13 , 24 )\n",
      "( 14 , 15 )\n",
      "( 14 , 16 )\n",
      "( 14 , 17 )\n",
      "( 14 , 18 )\n",
      "( 14 , 19 )\n",
      "( 14 , 20 )\n",
      "( 14 , 21 )\n",
      "( 14 , 22 )\n",
      "( 14 , 23 )\n",
      "( 14 , 24 )\n",
      "( 15 , 15 )\n",
      "( 15 , 16 )\n",
      "( 15 , 17 )\n",
      "( 15 , 18 )\n",
      "( 15 , 19 )\n",
      "( 15 , 20 )\n",
      "( 15 , 21 )\n",
      "( 15 , 22 )\n",
      "( 15 , 23 )\n",
      "( 15 , 24 )\n",
      "( 16 , 15 )\n",
      "( 16 , 16 )\n",
      "( 16 , 17 )\n",
      "( 16 , 18 )\n",
      "( 16 , 19 )\n",
      "( 16 , 20 )\n",
      "( 16 , 21 )\n",
      "( 16 , 22 )\n",
      "( 16 , 23 )\n",
      "( 16 , 24 )\n",
      "( 17 , 15 )\n",
      "( 17 , 16 )\n",
      "( 17 , 17 )\n",
      "( 17 , 18 )\n",
      "( 17 , 19 )\n",
      "( 17 , 20 )\n",
      "( 17 , 21 )\n",
      "( 17 , 22 )\n",
      "( 17 , 23 )\n",
      "( 17 , 24 )\n",
      "( 18 , 15 )\n",
      "( 18 , 16 )\n",
      "( 18 , 17 )\n",
      "( 18 , 18 )\n",
      "( 18 , 19 )\n",
      "( 18 , 20 )\n",
      "( 18 , 21 )\n",
      "( 18 , 22 )\n",
      "( 18 , 23 )\n",
      "( 18 , 24 )\n",
      "( 19 , 15 )\n",
      "( 19 , 16 )\n",
      "( 19 , 17 )\n",
      "( 19 , 18 )\n",
      "( 19 , 19 )\n",
      "( 19 , 20 )\n",
      "( 19 , 21 )\n",
      "( 19 , 22 )\n",
      "( 19 , 23 )\n",
      "( 19 , 24 )\n"
     ]
    }
   ],
   "source": [
    "for i in range(10,20):\n",
    "    for j in range(15,25):\n",
    "        print(\"(\",i,\",\",j,\")\")"
   ]
  },
  {
   "cell_type": "code",
   "execution_count": 36,
   "metadata": {},
   "outputs": [],
   "source": [
    "l = [(i,j) for i in range(10,20) for j in range(15,25)]"
   ]
  },
  {
   "cell_type": "code",
   "execution_count": 37,
   "metadata": {},
   "outputs": [
    {
     "data": {
      "text/plain": [
       "[(10, 15),\n",
       " (10, 16),\n",
       " (10, 17),\n",
       " (10, 18),\n",
       " (10, 19),\n",
       " (10, 20),\n",
       " (10, 21),\n",
       " (10, 22),\n",
       " (10, 23),\n",
       " (10, 24),\n",
       " (11, 15),\n",
       " (11, 16),\n",
       " (11, 17),\n",
       " (11, 18),\n",
       " (11, 19),\n",
       " (11, 20),\n",
       " (11, 21),\n",
       " (11, 22),\n",
       " (11, 23),\n",
       " (11, 24),\n",
       " (12, 15),\n",
       " (12, 16),\n",
       " (12, 17),\n",
       " (12, 18),\n",
       " (12, 19),\n",
       " (12, 20),\n",
       " (12, 21),\n",
       " (12, 22),\n",
       " (12, 23),\n",
       " (12, 24),\n",
       " (13, 15),\n",
       " (13, 16),\n",
       " (13, 17),\n",
       " (13, 18),\n",
       " (13, 19),\n",
       " (13, 20),\n",
       " (13, 21),\n",
       " (13, 22),\n",
       " (13, 23),\n",
       " (13, 24),\n",
       " (14, 15),\n",
       " (14, 16),\n",
       " (14, 17),\n",
       " (14, 18),\n",
       " (14, 19),\n",
       " (14, 20),\n",
       " (14, 21),\n",
       " (14, 22),\n",
       " (14, 23),\n",
       " (14, 24),\n",
       " (15, 15),\n",
       " (15, 16),\n",
       " (15, 17),\n",
       " (15, 18),\n",
       " (15, 19),\n",
       " (15, 20),\n",
       " (15, 21),\n",
       " (15, 22),\n",
       " (15, 23),\n",
       " (15, 24),\n",
       " (16, 15),\n",
       " (16, 16),\n",
       " (16, 17),\n",
       " (16, 18),\n",
       " (16, 19),\n",
       " (16, 20),\n",
       " (16, 21),\n",
       " (16, 22),\n",
       " (16, 23),\n",
       " (16, 24),\n",
       " (17, 15),\n",
       " (17, 16),\n",
       " (17, 17),\n",
       " (17, 18),\n",
       " (17, 19),\n",
       " (17, 20),\n",
       " (17, 21),\n",
       " (17, 22),\n",
       " (17, 23),\n",
       " (17, 24),\n",
       " (18, 15),\n",
       " (18, 16),\n",
       " (18, 17),\n",
       " (18, 18),\n",
       " (18, 19),\n",
       " (18, 20),\n",
       " (18, 21),\n",
       " (18, 22),\n",
       " (18, 23),\n",
       " (18, 24),\n",
       " (19, 15),\n",
       " (19, 16),\n",
       " (19, 17),\n",
       " (19, 18),\n",
       " (19, 19),\n",
       " (19, 20),\n",
       " (19, 21),\n",
       " (19, 22),\n",
       " (19, 23),\n",
       " (19, 24)]"
      ]
     },
     "execution_count": 37,
     "metadata": {},
     "output_type": "execute_result"
    }
   ],
   "source": [
    "l"
   ]
  },
  {
   "cell_type": "code",
   "execution_count": 39,
   "metadata": {},
   "outputs": [
    {
     "name": "stdout",
     "output_type": "stream",
     "text": [
      "6\n",
      "12\n",
      "18\n"
     ]
    }
   ],
   "source": [
    "# list all the numbers which are divisible by 2 and 3 from a given list\n",
    "# l = [2, 6, 12, 15, 18, 20, 21]\n",
    "\n",
    "l = [2,6,12,15,18,20,21]\n",
    "\n",
    "for i in l:\n",
    "    if i%2 == 0 and i%3 == 0:\n",
    "        print(i)"
   ]
  },
  {
   "cell_type": "code",
   "execution_count": 40,
   "metadata": {},
   "outputs": [],
   "source": [
    "l23 = [i for i in l if i%2 == 0 if i%3 == 0]"
   ]
  },
  {
   "cell_type": "code",
   "execution_count": 41,
   "metadata": {},
   "outputs": [
    {
     "data": {
      "text/plain": [
       "[6, 12, 18]"
      ]
     },
     "execution_count": 41,
     "metadata": {},
     "output_type": "execute_result"
    }
   ],
   "source": [
    "l23"
   ]
  },
  {
   "cell_type": "code",
   "execution_count": 42,
   "metadata": {},
   "outputs": [],
   "source": [
    "nos = ['24','24.4','52','53.5']\n",
    "nos_1 = [int(x) if float(x).is_integer() else float(x) for x in nos]"
   ]
  },
  {
   "cell_type": "code",
   "execution_count": 43,
   "metadata": {},
   "outputs": [
    {
     "data": {
      "text/plain": [
       "[24, 24.4, 52, 53.5]"
      ]
     },
     "execution_count": 43,
     "metadata": {},
     "output_type": "execute_result"
    }
   ],
   "source": [
    "nos_1"
   ]
  },
  {
   "cell_type": "code",
   "execution_count": 44,
   "metadata": {},
   "outputs": [],
   "source": [
    "nos = [2,6,13,25,48]\n",
    "#nosevenood = ['Even','Even','Odd','Odd','Even']"
   ]
  },
  {
   "cell_type": "code",
   "execution_count": 45,
   "metadata": {},
   "outputs": [],
   "source": [
    "nosevenodd = ['Even' if x%2 == 0 else 'Odd' for x in nos]"
   ]
  },
  {
   "cell_type": "code",
   "execution_count": 46,
   "metadata": {},
   "outputs": [
    {
     "data": {
      "text/plain": [
       "['Even', 'Even', 'Odd', 'Odd', 'Even']"
      ]
     },
     "execution_count": 46,
     "metadata": {},
     "output_type": "execute_result"
    }
   ],
   "source": [
    "nosevenodd"
   ]
  },
  {
   "cell_type": "code",
   "execution_count": 48,
   "metadata": {},
   "outputs": [],
   "source": [
    "nos = [2,6,13,25,48]\n",
    "nos_1 = []\n",
    "for i in nos:\n",
    "    if i%2 == 0:\n",
    "        nos_1.append('Even')\n",
    "    else:\n",
    "        nos_1.append('Odd')"
   ]
  },
  {
   "cell_type": "code",
   "execution_count": 49,
   "metadata": {},
   "outputs": [
    {
     "data": {
      "text/plain": [
       "['Even', 'Even', 'Odd', 'Odd', 'Even']"
      ]
     },
     "execution_count": 49,
     "metadata": {},
     "output_type": "execute_result"
    }
   ],
   "source": [
    "nos_1"
   ]
  },
  {
   "cell_type": "code",
   "execution_count": 52,
   "metadata": {},
   "outputs": [],
   "source": [
    "nos_2 = [(i,'Even') if i%2 == 0 else (i,'Odd') for i in nos]"
   ]
  },
  {
   "cell_type": "code",
   "execution_count": 53,
   "metadata": {},
   "outputs": [
    {
     "data": {
      "text/plain": [
       "[(2, 'Even'), (6, 'Even'), (13, 'Odd'), (25, 'Odd'), (48, 'Even')]"
      ]
     },
     "execution_count": 53,
     "metadata": {},
     "output_type": "execute_result"
    }
   ],
   "source": [
    "nos_2"
   ]
  },
  {
   "cell_type": "code",
   "execution_count": 58,
   "metadata": {},
   "outputs": [],
   "source": [
    "d = {i:str(i) for i in range(100) if i >= 10 if i <= 20}"
   ]
  },
  {
   "cell_type": "code",
   "execution_count": 59,
   "metadata": {},
   "outputs": [
    {
     "data": {
      "text/plain": [
       "dict"
      ]
     },
     "execution_count": 59,
     "metadata": {},
     "output_type": "execute_result"
    }
   ],
   "source": [
    "type(d)"
   ]
  },
  {
   "cell_type": "code",
   "execution_count": 60,
   "metadata": {},
   "outputs": [
    {
     "data": {
      "text/plain": [
       "{10: '10',\n",
       " 11: '11',\n",
       " 12: '12',\n",
       " 13: '13',\n",
       " 14: '14',\n",
       " 15: '15',\n",
       " 16: '16',\n",
       " 17: '17',\n",
       " 18: '18',\n",
       " 19: '19',\n",
       " 20: '20'}"
      ]
     },
     "execution_count": 60,
     "metadata": {},
     "output_type": "execute_result"
    }
   ],
   "source": [
    "d"
   ]
  },
  {
   "cell_type": "code",
   "execution_count": null,
   "metadata": {},
   "outputs": [],
   "source": []
  }
 ],
 "metadata": {
  "kernelspec": {
   "display_name": "Python 3",
   "language": "python",
   "name": "python3"
  },
  "language_info": {
   "codemirror_mode": {
    "name": "ipython",
    "version": 3
   },
   "file_extension": ".py",
   "mimetype": "text/x-python",
   "name": "python",
   "nbconvert_exporter": "python",
   "pygments_lexer": "ipython3",
   "version": "3.8.5"
  }
 },
 "nbformat": 4,
 "nbformat_minor": 4
}
