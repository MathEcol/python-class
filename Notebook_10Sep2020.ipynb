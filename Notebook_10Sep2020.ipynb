{
 "cells": [
  {
   "cell_type": "markdown",
   "metadata": {},
   "source": [
    "### Write a Python Program using Functions to multiply two matrices $A_{m\\times p}$ and $B_{p\\times n}$"
   ]
  },
  {
   "cell_type": "markdown",
   "metadata": {},
   "source": [
    "$$\n",
    "\\begin{bmatrix} 2 & 4 & 5\\\\4 & 6 & 7\\end{bmatrix}\n",
    "$$"
   ]
  },
  {
   "cell_type": "markdown",
   "metadata": {},
   "source": [
    "#### At first we discuss how a matrix in Python can be treated as a list of list and then we write some piece of codes to print this list of list in matrix form"
   ]
  },
  {
   "cell_type": "code",
   "execution_count": 1,
   "metadata": {},
   "outputs": [],
   "source": [
    "# A matrix in Python can be considered as list of list as shown below\n",
    "A = [[2,4,5],[4,6,7]]\n",
    "\n",
    "# The rows of A are nothing but the length of A and the columns of A\n",
    "# is nothing but the number of elements in the inner list element A[0]\n",
    "row = len(A)\n",
    "col = len(A[0])"
   ]
  },
  {
   "cell_type": "code",
   "execution_count": 2,
   "metadata": {},
   "outputs": [
    {
     "name": "stdout",
     "output_type": "stream",
     "text": [
      "2 3\n"
     ]
    }
   ],
   "source": [
    "print(row,col)"
   ]
  },
  {
   "cell_type": "code",
   "execution_count": 1,
   "metadata": {},
   "outputs": [],
   "source": [
    "A = [[1,2,3,4],[1,1,1,1],[2,3,5,6]]"
   ]
  },
  {
   "cell_type": "code",
   "execution_count": 2,
   "metadata": {},
   "outputs": [
    {
     "name": "stdout",
     "output_type": "stream",
     "text": [
      "1 2 3 4 \n",
      "1 1 1 1 \n",
      "2 3 5 6 \n"
     ]
    }
   ],
   "source": [
    "# The below Python code is for printing the matrix\n",
    "row = len(A)\n",
    "col = len(A[0])\n",
    "for i in range(row):\n",
    "    for j in range(col):\n",
    "        print(A[i][j],end=\" \")\n",
    "    print()"
   ]
  },
  {
   "cell_type": "markdown",
   "metadata": {},
   "source": [
    "#### In the above we have seen how we can represent a matrix in a list of list form and then print it.  Below we discuss how a matrix (as a list of list) can be formed by taking the input from the user"
   ]
  },
  {
   "cell_type": "code",
   "execution_count": 12,
   "metadata": {},
   "outputs": [
    {
     "name": "stdout",
     "output_type": "stream",
     "text": [
      "Enter the element (0,0)1\n",
      "Enter the element (0,1)2\n",
      "Enter the element (0,2)3\n",
      "Enter the element (1,0)1\n",
      "Enter the element (1,1)2\n",
      "Enter the element (1,2)3\n"
     ]
    }
   ],
   "source": [
    "# Python code to accept the matrix A of dimension 2 x 3 from the user\n",
    "# as a list of list. A = [[a_{00}, a_{01}, a_{02}],[a_{10}, a_{11}, a_{12}]]\n",
    "row = 2\n",
    "col = 3\n",
    "A = []\n",
    "for i in range(row):\n",
    "    rowA = []\n",
    "    for j in range(col):\n",
    "        msgstr = 'Enter the element ('+str(i)+','+str(j)+'): '\n",
    "        temp = int(input(msgstr))\n",
    "        rowA.append(temp)\n",
    "    A.append(rowA)"
   ]
  },
  {
   "cell_type": "code",
   "execution_count": 13,
   "metadata": {},
   "outputs": [
    {
     "data": {
      "text/plain": [
       "[[1, 2, 3], [1, 2, 3]]"
      ]
     },
     "execution_count": 13,
     "metadata": {},
     "output_type": "execute_result"
    }
   ],
   "source": [
    "# Check the input of the matrix A\n",
    "A"
   ]
  },
  {
   "cell_type": "markdown",
   "metadata": {},
   "source": [
    "#### In the above code of accepting the matrix from the user, we are using two for loops and then using temporary variable rowA also. This process can be simplified using list comprehension process of Python.\n",
    "\n",
    "#### Below we will discuss how we can first accept a list of elements from the user and then arrange these elements into a list of list form representing the matrix using list comprehension technique"
   ]
  },
  {
   "cell_type": "markdown",
   "metadata": {},
   "source": [
    "First some basic string operations and map functions to convert a string into a list of numerical values"
   ]
  },
  {
   "cell_type": "code",
   "execution_count": 14,
   "metadata": {},
   "outputs": [
    {
     "name": "stdout",
     "output_type": "stream",
     "text": [
      "Enter string: 1 2 3 4 5 6\n"
     ]
    }
   ],
   "source": [
    "Str1 = input('Enter string: ')"
   ]
  },
  {
   "cell_type": "code",
   "execution_count": 22,
   "metadata": {},
   "outputs": [],
   "source": [
    "L = Str1.split()\n",
    "L = list(map(int, L))"
   ]
  },
  {
   "cell_type": "code",
   "execution_count": 23,
   "metadata": {},
   "outputs": [
    {
     "data": {
      "text/plain": [
       "[1, 2, 3, 4, 5, 6]"
      ]
     },
     "execution_count": 23,
     "metadata": {},
     "output_type": "execute_result"
    }
   ],
   "source": [
    "L"
   ]
  },
  {
   "cell_type": "markdown",
   "metadata": {},
   "source": [
    "We now wish to generate a $2 \\times 3$ matrix from the above single row such as LL = [[1,2,3],[4,5,6]]"
   ]
  },
  {
   "cell_type": "code",
   "execution_count": 5,
   "metadata": {},
   "outputs": [],
   "source": [
    "LL = [[1,2,3],[4,5,6]]"
   ]
  },
  {
   "cell_type": "code",
   "execution_count": 6,
   "metadata": {},
   "outputs": [
    {
     "data": {
      "text/plain": [
       "[[1, 2, 3], [4, 5, 6]]"
      ]
     },
     "execution_count": 6,
     "metadata": {},
     "output_type": "execute_result"
    }
   ],
   "source": [
    "LL"
   ]
  },
  {
   "cell_type": "markdown",
   "metadata": {},
   "source": [
    "#### For this we first take note of how many rows and how may cols our matrix should have. In our case row = 2, col = 3. Then we first loop through row and then loop through col and generate the matrix LLL of dimension $2 \\times 3$. We first formulate this using normal for loop structure and then simplify this to one line code using list comprehension"
   ]
  },
  {
   "cell_type": "code",
   "execution_count": 5,
   "metadata": {},
   "outputs": [],
   "source": [
    "L = [1,2,3,4,5,6]\n",
    "row = 3\n",
    "col = 2\n",
    "LLL = []\n",
    "for i in range(0,row):\n",
    "    rowA = [] # Empty row\n",
    "    # While i = 0 we have to loop j through 0 to 2 and\n",
    "    # while i = 1 we have to loop j thorugh 3 to 5 i.e, 3*1 to 3*1+3\n",
    "    # in other words for i-th loop j should run through col*i to col*i+col\n",
    "    for j in range(col*i,col*i+col): \n",
    "        rowA.append(L[j]) # Append jth element in the L to the row\n",
    "    LLL.append(rowA) # Append the row to the matrix LLL\n",
    "    \n",
    "# Genarating list of list using list comprehension\n",
    "# Since we have to generate list of list where the inner list the\n",
    "# number elements in a row, as per the above code we use the inner\n",
    "# for loop for generating inner list as [L[j] for j in range(col*i,col*i+col)]\n",
    "# We will then place this list inside the list and iterate over outer\n",
    "# for loop.\n",
    "LM = [[L[j] for j in range(col*i,col*i+col)] for i in range(0,row)]"
   ]
  },
  {
   "cell_type": "code",
   "execution_count": 6,
   "metadata": {},
   "outputs": [
    {
     "data": {
      "text/plain": [
       "[[1, 2], [3, 4], [5, 6]]"
      ]
     },
     "execution_count": 6,
     "metadata": {},
     "output_type": "execute_result"
    }
   ],
   "source": [
    "LLL"
   ]
  },
  {
   "cell_type": "code",
   "execution_count": 7,
   "metadata": {},
   "outputs": [
    {
     "data": {
      "text/plain": [
       "[[1, 2], [3, 4], [5, 6]]"
      ]
     },
     "execution_count": 7,
     "metadata": {},
     "output_type": "execute_result"
    }
   ],
   "source": [
    "LM"
   ]
  },
  {
   "cell_type": "markdown",
   "metadata": {},
   "source": [
    "### Below we consolidate all the above code and define three functions namely, \n",
    "#### inputmatrix(row,col) -- for accepting the matrix the user; \n",
    "#### displaymatrix(X) -- displaying the matrix to the user; \n",
    "#### multiplymatrices(X,Y) -- for multiplying two matrix X and Y"
   ]
  },
  {
   "cell_type": "code",
   "execution_count": 9,
   "metadata": {},
   "outputs": [],
   "source": [
    "# Function for taking matrix input with speicified rows and cols\n",
    "def inputmatrix(row,col):\n",
    "    msgstr = 'Enter the matrix as row with '+str(row*col)+' elements seperated by space: '\n",
    "    # A = input(msgstr)\n",
    "    # A = list(map(int, A.split()))\n",
    "    A = list(map(int, input(msgstr).split()))\n",
    "    X = [[A[j] for j in range(col*i,col*i+col)] for i in range(0,row)]\n",
    "    return X"
   ]
  },
  {
   "cell_type": "code",
   "execution_count": 10,
   "metadata": {},
   "outputs": [],
   "source": [
    "# display the matrix to the user\n",
    "def displaymatrix(X):\n",
    "    row = len(X)\n",
    "    col = len(X[0])\n",
    "    for i in range(row):\n",
    "        for j in range(col):\n",
    "            print(X[i][j],end=\" \")\n",
    "        print()"
   ]
  },
  {
   "cell_type": "code",
   "execution_count": 65,
   "metadata": {},
   "outputs": [
    {
     "name": "stdout",
     "output_type": "stream",
     "text": [
      "Enter the matrix as row with 6 elements seperated by space: 1 2 3 4 5 6\n"
     ]
    }
   ],
   "source": [
    "A = inputmatrix(2,3)"
   ]
  },
  {
   "cell_type": "code",
   "execution_count": 53,
   "metadata": {},
   "outputs": [
    {
     "name": "stdout",
     "output_type": "stream",
     "text": [
      "1 2 3 \n",
      "4 5 6 \n"
     ]
    }
   ],
   "source": [
    "displaymatrix(A)"
   ]
  },
  {
   "cell_type": "markdown",
   "metadata": {},
   "source": [
    "Before discussing the Python function code for multiplymatrices let us first recall the mathematical process of multiplying two matrices\n",
    "\n",
    "If $A = (a_{i_k})$ and $B =(b_{k_j})$ are two matrices where $i$ ranges from $1$ to $m$ and $k$ ranges from $1$ to $p$ and $j$ ranges from $1$ to $n$\n",
    "\n",
    "Then $C = AB = (c_{i_j})$ where $$c_{i_j} = \\sum_{k=1}^n a_{i_k}\\times b_{k_j}$$"
   ]
  },
  {
   "cell_type": "code",
   "execution_count": 11,
   "metadata": {},
   "outputs": [],
   "source": [
    "# Function for multiplying two matrices following the above mathematical logic\n",
    "def multiplymatrices(X,Y):\n",
    "    rowX = len(X)\n",
    "    rowY = len(Y)\n",
    "    colY = len(Y[0])\n",
    "    # generate a zero matrix of order (rowX,colY)\n",
    "    # [[0,0,0],[0,0,0],[0,0,0]]\n",
    "    result = [[0 for j in range(colY*i,colY*i+colY)] for i in range(0,rowX)]\n",
    "    for i in range(rowX):\n",
    "        for j in range(colY):\n",
    "            for k in range(rowY):\n",
    "                result[i][j] += X[i][k]*Y[k][j]\n",
    "    return result"
   ]
  },
  {
   "cell_type": "code",
   "execution_count": 71,
   "metadata": {},
   "outputs": [
    {
     "name": "stdout",
     "output_type": "stream",
     "text": [
      "Enter the matrix as row with 6 elements seperated by space: 1 1 1 1 1 1 1\n"
     ]
    }
   ],
   "source": [
    "B = inputmatrix(3,2)"
   ]
  },
  {
   "cell_type": "code",
   "execution_count": 75,
   "metadata": {},
   "outputs": [
    {
     "name": "stdout",
     "output_type": "stream",
     "text": [
      "1 1 \n",
      "1 1 \n",
      "1 1 \n"
     ]
    }
   ],
   "source": [
    "displaymatrix(B)"
   ]
  },
  {
   "cell_type": "code",
   "execution_count": 58,
   "metadata": {},
   "outputs": [],
   "source": [
    "C = multiplymatrices(A,B)"
   ]
  },
  {
   "cell_type": "code",
   "execution_count": 76,
   "metadata": {},
   "outputs": [
    {
     "name": "stdout",
     "output_type": "stream",
     "text": [
      "44 56 \n",
      "98 128 \n"
     ]
    }
   ],
   "source": [
    "displaymatrix(C)"
   ]
  },
  {
   "cell_type": "code",
   "execution_count": 77,
   "metadata": {},
   "outputs": [
    {
     "name": "stdout",
     "output_type": "stream",
     "text": [
      "Enter the matrix as row with 4 elements seperated by space: 1 2 3 4\n"
     ]
    }
   ],
   "source": [
    "A = inputmatrix(2,2)"
   ]
  },
  {
   "cell_type": "code",
   "execution_count": 78,
   "metadata": {},
   "outputs": [
    {
     "name": "stdout",
     "output_type": "stream",
     "text": [
      "Enter the matrix as row with 4 elements seperated by space: 1 0 0 1\n"
     ]
    }
   ],
   "source": [
    "B = inputmatrix(2,2)"
   ]
  },
  {
   "cell_type": "code",
   "execution_count": 79,
   "metadata": {},
   "outputs": [],
   "source": [
    "C = multiplymatrices(A,B)"
   ]
  },
  {
   "cell_type": "code",
   "execution_count": 80,
   "metadata": {},
   "outputs": [
    {
     "name": "stdout",
     "output_type": "stream",
     "text": [
      "1 2 \n",
      "3 4 \n"
     ]
    }
   ],
   "source": [
    "displaymatrix(A)"
   ]
  },
  {
   "cell_type": "code",
   "execution_count": 81,
   "metadata": {},
   "outputs": [
    {
     "name": "stdout",
     "output_type": "stream",
     "text": [
      "1 0 \n",
      "0 1 \n"
     ]
    }
   ],
   "source": [
    "displaymatrix(B)"
   ]
  },
  {
   "cell_type": "code",
   "execution_count": 82,
   "metadata": {},
   "outputs": [
    {
     "name": "stdout",
     "output_type": "stream",
     "text": [
      "1 2 \n",
      "3 4 \n"
     ]
    }
   ],
   "source": [
    "displaymatrix(C)"
   ]
  },
  {
   "cell_type": "markdown",
   "metadata": {},
   "source": [
    "#### Below we present the final piece of code to multiply two matrices.  Here we first accept the dimensions of matrices A and B and then check for the dimensionality condition for matrix multiplication.  If the two matrices satisfy the matrix multiplication condition then we accept the matrices A and B from the user and then carry out the matrix multiplication"
   ]
  },
  {
   "cell_type": "code",
   "execution_count": 12,
   "metadata": {},
   "outputs": [
    {
     "name": "stdout",
     "output_type": "stream",
     "text": [
      "Enter matrix A dimension: 2 5\n",
      "Enter matrix B dimension: 5 2\n",
      "Enter the matrix as row with 10 elements seperated by space: 1 2 3 4 5 6 7 8 9 10\n",
      "Enter the matrix as row with 10 elements seperated by space: 10 9 8 7 6 5 4 3 2 1\n",
      "Matrix A = \n",
      "1 2 3 4 5 \n",
      "6 7 8 9 10 \n",
      "Matrix B = \n",
      "10 9 \n",
      "8 7 \n",
      "6 5 \n",
      "4 3 \n",
      "2 1 \n",
      "Matirx AB = \n",
      "70 55 \n",
      "220 180 \n"
     ]
    }
   ],
   "source": [
    "dimA = input('Enter matrix A dimension: ')\n",
    "dimB = input('Enter matrix B dimension: ')\n",
    "dimA = list(map(int, dimA.split()))\n",
    "dimB = list(map(int, dimB.split()))\n",
    "\n",
    "if dimA[1] != dimB[0]:\n",
    "    print('Matrix dimensions does not agree and multiplicaiton not possible:')\n",
    "else:\n",
    "    A = inputmatrix(dimA[0],dimA[1])\n",
    "    B = inputmatrix(dimB[0],dimB[1])\n",
    "    C = multiplymatrices(A,B)\n",
    "    print('Matrix A = ')\n",
    "    displaymatrix(A)\n",
    "    print('Matrix B = ')\n",
    "    displaymatrix(B)\n",
    "    print('Matirx AB = ')\n",
    "    displaymatrix(C)"
   ]
  },
  {
   "cell_type": "code",
   "execution_count": null,
   "metadata": {},
   "outputs": [],
   "source": []
  }
 ],
 "metadata": {
  "kernelspec": {
   "display_name": "Python 3",
   "language": "python",
   "name": "python3"
  },
  "language_info": {
   "codemirror_mode": {
    "name": "ipython",
    "version": 3
   },
   "file_extension": ".py",
   "mimetype": "text/x-python",
   "name": "python",
   "nbconvert_exporter": "python",
   "pygments_lexer": "ipython3",
   "version": "3.8.5"
  }
 },
 "nbformat": 4,
 "nbformat_minor": 4
}
