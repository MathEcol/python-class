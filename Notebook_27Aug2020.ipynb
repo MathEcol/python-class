{
 "cells": [
  {
   "cell_type": "code",
   "execution_count": 9,
   "metadata": {},
   "outputs": [],
   "source": [
    "rand_str = 'Video provides a powerful way to help you prove your point. When you click Online Video you can paste in the embed code for the video you want to add.'\n",
    "\n",
    "word_freq = dict()\n",
    "rand_str_word = str(rand_str.lower()).split()\n",
    "\n",
    "for word in range(len(rand_str_word)):\n",
    "    if rand_str_word[word] not in word_freq:\n",
    "        word_freq[rand_str_word[word]] = 1\n",
    "    else:\n",
    "        word_freq[rand_str_word[word]] += 1"
   ]
  },
  {
   "cell_type": "code",
   "execution_count": 10,
   "metadata": {},
   "outputs": [
    {
     "data": {
      "text/plain": [
       "{'video': 3,\n",
       " 'provides': 1,\n",
       " 'a': 1,\n",
       " 'powerful': 1,\n",
       " 'way': 1,\n",
       " 'to': 2,\n",
       " 'help': 1,\n",
       " 'you': 4,\n",
       " 'prove': 1,\n",
       " 'your': 1,\n",
       " 'point.': 1,\n",
       " 'when': 1,\n",
       " 'click': 1,\n",
       " 'online': 1,\n",
       " 'can': 1,\n",
       " 'paste': 1,\n",
       " 'in': 1,\n",
       " 'the': 2,\n",
       " 'embed': 1,\n",
       " 'code': 1,\n",
       " 'for': 1,\n",
       " 'want': 1,\n",
       " 'add.': 1}"
      ]
     },
     "execution_count": 10,
     "metadata": {},
     "output_type": "execute_result"
    }
   ],
   "source": [
    "word_freq"
   ]
  },
  {
   "cell_type": "code",
   "execution_count": null,
   "metadata": {},
   "outputs": [],
   "source": []
  }
 ],
 "metadata": {
  "kernelspec": {
   "display_name": "Python 3",
   "language": "python",
   "name": "python3"
  },
  "language_info": {
   "codemirror_mode": {
    "name": "ipython",
    "version": 3
   },
   "file_extension": ".py",
   "mimetype": "text/x-python",
   "name": "python",
   "nbconvert_exporter": "python",
   "pygments_lexer": "ipython3",
   "version": "3.8.5"
  }
 },
 "nbformat": 4,
 "nbformat_minor": 4
}
