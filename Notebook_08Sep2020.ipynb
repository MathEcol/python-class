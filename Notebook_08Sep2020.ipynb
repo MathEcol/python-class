{
 "cells": [
  {
   "cell_type": "markdown",
   "metadata": {},
   "source": [
    "### Python Functions\n",
    "1. #### Write a Python function program to find the maximum of three numbers.\n",
    "2. #### Write a Python function to sum all the numbers in a list.\n",
    "3. #### Write a Python function to reverse a string.\n",
    "4. #### Write a Python function that accepts a string and calculate the number of upper case letters and lower case letters.\n",
    "5. #### Write a Python function that takes a number as a parameter and check the number is prime or not?\n",
    "6. #### Write a Python function that checks whether a passed string is palindrome or not?\n",
    "7. #### Write a Python function to find the factorial of a given number.\n",
    "8. #### Write a Python function to generate the Fibonacci sequence up to $n$ terms."
   ]
  },
  {
   "cell_type": "code",
   "execution_count": 1,
   "metadata": {},
   "outputs": [],
   "source": [
    "def max_two(num1, num2):\n",
    "    if num1 >= num2:\n",
    "        return num1\n",
    "    else:\n",
    "        return num2\n",
    "\n",
    "def max_three(num1,num2,num3):\n",
    "    return max_two(num1, max_two(num2,num3))"
   ]
  },
  {
   "cell_type": "code",
   "execution_count": 2,
   "metadata": {},
   "outputs": [
    {
     "data": {
      "text/plain": [
       "12"
      ]
     },
     "execution_count": 2,
     "metadata": {},
     "output_type": "execute_result"
    }
   ],
   "source": [
    "max_three(9,-3,12)"
   ]
  },
  {
   "cell_type": "code",
   "execution_count": 3,
   "metadata": {},
   "outputs": [
    {
     "data": {
      "text/plain": [
       "9"
      ]
     },
     "execution_count": 3,
     "metadata": {},
     "output_type": "execute_result"
    }
   ],
   "source": [
    "max_three(9,2,9)"
   ]
  },
  {
   "cell_type": "code",
   "execution_count": 6,
   "metadata": {},
   "outputs": [],
   "source": [
    "def sum_list(list1):\n",
    "    total = 0\n",
    "    for i in list1:\n",
    "        total += i\n",
    "    return total"
   ]
  },
  {
   "cell_type": "code",
   "execution_count": 7,
   "metadata": {},
   "outputs": [
    {
     "data": {
      "text/plain": [
       "33"
      ]
     },
     "execution_count": 7,
     "metadata": {},
     "output_type": "execute_result"
    }
   ],
   "source": [
    "sum_list([4,5,26,-2])"
   ]
  },
  {
   "cell_type": "code",
   "execution_count": 9,
   "metadata": {},
   "outputs": [],
   "source": [
    "# Write a Python function to reverse a string\n",
    "def reverse_string(str1):\n",
    "    rev_str = \"\"\n",
    "    l = len(str1)\n",
    "    for i in range(l-1,-1,-1):\n",
    "        rev_str += str1[i]\n",
    "    return rev_str"
   ]
  },
  {
   "cell_type": "code",
   "execution_count": 10,
   "metadata": {},
   "outputs": [
    {
     "data": {
      "text/plain": [
       "'4321dcba'"
      ]
     },
     "execution_count": 10,
     "metadata": {},
     "output_type": "execute_result"
    }
   ],
   "source": [
    "reverse_string('abcd1234')"
   ]
  },
  {
   "cell_type": "code",
   "execution_count": 2,
   "metadata": {},
   "outputs": [],
   "source": [
    "def string_reverse(str1):\n",
    "    rev_str = \"\"\n",
    "    l = len(str1)\n",
    "    i = 0\n",
    "    while i < l:\n",
    "        rev_str += str1[l-i-1]\n",
    "        i = i+1\n",
    "    return rev_str"
   ]
  },
  {
   "cell_type": "code",
   "execution_count": 3,
   "metadata": {},
   "outputs": [
    {
     "data": {
      "text/plain": [
       "'4321dcba'"
      ]
     },
     "execution_count": 3,
     "metadata": {},
     "output_type": "execute_result"
    }
   ],
   "source": [
    "string_reverse('abcd1234')"
   ]
  },
  {
   "cell_type": "code",
   "execution_count": 4,
   "metadata": {},
   "outputs": [],
   "source": [
    "# Write a Python function that accepts a string and calculate the number of upper case letters and lower case letters.\n",
    "def ULC(str1):\n",
    "    uc = 0\n",
    "    lc = 0\n",
    "    for i in range(len(str1)):\n",
    "        if str1[i].islower():\n",
    "            lc += 1\n",
    "        elif str1[i].isupper():\n",
    "            uc += 1\n",
    "        else:\n",
    "            pass\n",
    "    print('The given string is: ', str1)\n",
    "    print('The count of upper case letters is: ',uc)\n",
    "    print('The count of lower case letters is: ',lc)"
   ]
  },
  {
   "cell_type": "code",
   "execution_count": 5,
   "metadata": {},
   "outputs": [],
   "source": [
    "str1 = 'The Quick Brown Fox'"
   ]
  },
  {
   "cell_type": "code",
   "execution_count": 6,
   "metadata": {},
   "outputs": [
    {
     "name": "stdout",
     "output_type": "stream",
     "text": [
      "The given string is:  The Quick Brown Fox\n",
      "The count of upper case letters is:  4\n",
      "The count of lower case letters is:  12\n"
     ]
    }
   ],
   "source": [
    "ULC(str1)"
   ]
  },
  {
   "cell_type": "code",
   "execution_count": 22,
   "metadata": {},
   "outputs": [],
   "source": [
    "# Write a Python function that checks whether a passed string is palindrome or not?\n",
    "def isPalindrome(str1):\n",
    "    str1 = str1.lower()\n",
    "    if str1 == string_reverse(str1):\n",
    "        return True\n",
    "    else:\n",
    "        return False"
   ]
  },
  {
   "cell_type": "code",
   "execution_count": 21,
   "metadata": {},
   "outputs": [
    {
     "data": {
      "text/plain": [
       "True"
      ]
     },
     "execution_count": 21,
     "metadata": {},
     "output_type": "execute_result"
    }
   ],
   "source": [
    "isPalindrome('liril')"
   ]
  },
  {
   "cell_type": "code",
   "execution_count": 20,
   "metadata": {},
   "outputs": [
    {
     "data": {
      "text/plain": [
       "True"
      ]
     },
     "execution_count": 20,
     "metadata": {},
     "output_type": "execute_result"
    }
   ],
   "source": [
    "isPalindrome('Liril')"
   ]
  },
  {
   "cell_type": "code",
   "execution_count": 29,
   "metadata": {},
   "outputs": [],
   "source": [
    "# Write a Python function to find the factorial of a given number.\n",
    "\n",
    "def factorial_no_recurrsion(num):\n",
    "    fact = 1\n",
    "    if num < 0:\n",
    "        print('Number should be an integer greather than or equal 0')\n",
    "        # return False\n",
    "    else:\n",
    "        for i in range(1,num+1):\n",
    "            fact = fact*i\n",
    "        return fact"
   ]
  },
  {
   "cell_type": "code",
   "execution_count": 34,
   "metadata": {},
   "outputs": [
    {
     "data": {
      "text/plain": [
       "720"
      ]
     },
     "execution_count": 34,
     "metadata": {},
     "output_type": "execute_result"
    }
   ],
   "source": [
    "factorial_no_recurrsion(6)"
   ]
  },
  {
   "cell_type": "code",
   "execution_count": 37,
   "metadata": {},
   "outputs": [],
   "source": [
    "# Write a Python function to find the factorial of a given number.\n",
    "\n",
    "def factorial_reccursion(num):\n",
    "    if num < 0:\n",
    "        return False\n",
    "    elif num <= 1:\n",
    "        return 1\n",
    "    else:\n",
    "        return num*factorial_reccursion(num-1)"
   ]
  },
  {
   "cell_type": "code",
   "execution_count": 45,
   "metadata": {},
   "outputs": [
    {
     "data": {
      "text/plain": [
       "720"
      ]
     },
     "execution_count": 45,
     "metadata": {},
     "output_type": "execute_result"
    }
   ],
   "source": [
    "factorial_reccursion(6)"
   ]
  },
  {
   "cell_type": "code",
   "execution_count": 46,
   "metadata": {},
   "outputs": [],
   "source": [
    "# Fibonacci Sequence is 1,1,2,3,5,8,13,....\n",
    "# Next number is the sum of previous two numbers\n",
    "\n",
    "def fibonacci(num):\n",
    "    if num <= 1:\n",
    "        return num\n",
    "    else:\n",
    "        return fibonacci(num-1)+fibonacci(num-2)"
   ]
  },
  {
   "cell_type": "code",
   "execution_count": 54,
   "metadata": {},
   "outputs": [
    {
     "name": "stdout",
     "output_type": "stream",
     "text": [
      "Enter the number of terms required:10\n",
      "1,1,2,3,5,8,13,21,34,55\n"
     ]
    }
   ],
   "source": [
    "num = int(input('Enter the number of terms required:'))\n",
    "for i in range(1,num+1):\n",
    "    if i == num:\n",
    "        print(fibonacci(i))\n",
    "    else:\n",
    "        print(fibonacci(i),end=\",\")"
   ]
  },
  {
   "cell_type": "code",
   "execution_count": null,
   "metadata": {},
   "outputs": [],
   "source": []
  }
 ],
 "metadata": {
  "kernelspec": {
   "display_name": "Python 3",
   "language": "python",
   "name": "python3"
  },
  "language_info": {
   "codemirror_mode": {
    "name": "ipython",
    "version": 3
   },
   "file_extension": ".py",
   "mimetype": "text/x-python",
   "name": "python",
   "nbconvert_exporter": "python",
   "pygments_lexer": "ipython3",
   "version": "3.8.5"
  }
 },
 "nbformat": 4,
 "nbformat_minor": 4
}
