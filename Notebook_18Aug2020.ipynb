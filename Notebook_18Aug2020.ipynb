{
 "cells": [
  {
   "cell_type": "markdown",
   "metadata": {},
   "source": [
    "## Python `for` and `while` loops and some sample programs using them"
   ]
  },
  {
   "cell_type": "markdown",
   "metadata": {},
   "source": [
    "### `for` loop in Python:\n",
    "\n",
    "```python\n",
    "for <iterative_condtion>:\n",
    "    statements to be executed repeatedly\n",
    "```"
   ]
  },
  {
   "cell_type": "markdown",
   "metadata": {},
   "source": [
    "### `while` loop in Python:\n",
    "\n",
    "```python\n",
    "while <condition>:\n",
    "    statements to be executed till the condition is true\n",
    "```"
   ]
  },
  {
   "cell_type": "markdown",
   "metadata": {},
   "source": [
    "### Program to repeat a number 10 times:"
   ]
  },
  {
   "cell_type": "code",
   "execution_count": 6,
   "metadata": {},
   "outputs": [
    {
     "name": "stdout",
     "output_type": "stream",
     "text": [
      "Enter the number: 10\n",
      "10\n",
      "10\n",
      "10\n",
      "10\n",
      "10\n",
      "10\n",
      "10\n",
      "10\n",
      "10\n",
      "10\n"
     ]
    }
   ],
   "source": [
    "n = int(input('Enter the number: '))\n",
    "for i in range(10):\n",
    "    print(n)"
   ]
  },
  {
   "cell_type": "code",
   "execution_count": 8,
   "metadata": {},
   "outputs": [
    {
     "name": "stdout",
     "output_type": "stream",
     "text": [
      "Enter the number: 10\n",
      "10\n",
      "10\n",
      "10\n",
      "10\n",
      "10\n",
      "10\n",
      "10\n",
      "10\n",
      "10\n",
      "10\n"
     ]
    }
   ],
   "source": [
    "n = int(input('Enter the number: '))\n",
    "i = 1\n",
    "while i <= 10:\n",
    "    print(n)\n",
    "    i = i+1"
   ]
  },
  {
   "cell_type": "markdown",
   "metadata": {},
   "source": [
    "#### Write a Python a program to print the following pattern: This program should accept the number of lines from the user and print the pattern\n",
    "$$\n",
    "\\begin{array}{ccc}\n",
    "* & &\\\\\n",
    "* & * & \\\\\n",
    "* & * & *\n",
    "\\end{array}\n",
    "$$"
   ]
  },
  {
   "cell_type": "code",
   "execution_count": 16,
   "metadata": {},
   "outputs": [
    {
     "name": "stdout",
     "output_type": "stream",
     "text": [
      "Enter no.of lines: 4\n",
      "\n",
      "\n",
      "* \n",
      "\n",
      "* * \n",
      "\n",
      "* * * \n",
      "\n",
      "* * * * \n",
      "\n"
     ]
    }
   ],
   "source": [
    "n = int(input('Enter no.of lines: '))\n",
    "for i in range(0,n+1,1):\n",
    "    for k in range(0,i,1):\n",
    "        print(\"* \",end=\"\")\n",
    "    print(\"\\n\")"
   ]
  },
  {
   "cell_type": "markdown",
   "metadata": {},
   "source": [
    "#### Write a Python a program to print the following pattern: This program should accept the number of lines from the user and print the pattern\n",
    "$$\n",
    "\\begin{array}{ccc}\n",
    "& & *\\\\\n",
    "& * & * \\\\\n",
    "* & * & *\n",
    "\\end{array}\n",
    "$$"
   ]
  },
  {
   "cell_type": "code",
   "execution_count": 20,
   "metadata": {},
   "outputs": [
    {
     "name": "stdout",
     "output_type": "stream",
     "text": [
      "Enter no.of lines: 5\n",
      "          \n",
      "\n",
      "        * \n",
      "\n",
      "      * * \n",
      "\n",
      "    * * * \n",
      "\n",
      "  * * * * \n",
      "\n",
      "* * * * * \n",
      "\n"
     ]
    }
   ],
   "source": [
    "n = int(input('Enter no.of lines: '))\n",
    "for i in range(0,n+1,1):\n",
    "    for j in range(2*(n-i),0,-1):\n",
    "        print(\" \",end=\"\")\n",
    "    for k in range(0,i,1):\n",
    "        print(\"* \",end=\"\")\n",
    "    print(\"\\n\")"
   ]
  },
  {
   "cell_type": "markdown",
   "metadata": {},
   "source": [
    "#### Write a Python a program to print the following pattern: This program should accept the number of lines from the user and print the pattern\n",
    "$$\n",
    "\\begin{array}{ccccc}\n",
    "& & * & &\\\\\n",
    "&* & & * &\\\\\n",
    "* & & * & & *\n",
    "\\end{array}\n",
    "$$"
   ]
  },
  {
   "cell_type": "code",
   "execution_count": 21,
   "metadata": {},
   "outputs": [
    {
     "name": "stdout",
     "output_type": "stream",
     "text": [
      "Enter no.of lines: 5\n",
      "     \n",
      "\n",
      "    * \n",
      "\n",
      "   * * \n",
      "\n",
      "  * * * \n",
      "\n",
      " * * * * \n",
      "\n",
      "* * * * * \n",
      "\n"
     ]
    }
   ],
   "source": [
    "n = int(input('Enter no.of lines: '))\n",
    "for i in range(0,n+1,1):\n",
    "    for j in range((n-i),0,-1):\n",
    "        print(\" \",end=\"\")\n",
    "    for k in range(0,i,1):\n",
    "        print(\"* \",end=\"\")\n",
    "    print(\"\\n\")"
   ]
  },
  {
   "cell_type": "markdown",
   "metadata": {},
   "source": [
    "#### Write a Python program to draw the following pattern:\n",
    "$$\n",
    "\\begin{array}{cccc}\n",
    "1 & & &\\\\\n",
    "1 & 2 & & \\\\\n",
    "1 & 2 & 3 & \\\\\n",
    "1 & 2 & 3 & 4\n",
    "\\end{array}\n",
    "$$"
   ]
  },
  {
   "cell_type": "code",
   "execution_count": 14,
   "metadata": {},
   "outputs": [
    {
     "name": "stdout",
     "output_type": "stream",
     "text": [
      "Enter no.of lines: 4\n",
      "1 \n",
      "\n",
      "1 2 \n",
      "\n",
      "1 2 3 \n",
      "\n",
      "1 2 3 4 \n",
      "\n"
     ]
    }
   ],
   "source": [
    "n = int(input('Enter no.of lines: '))\n",
    "for i in range(1,n+1,1):\n",
    "    for k in range(0,i,1):\n",
    "        print(k+1,end=\" \")\n",
    "    print(\"\\n\")"
   ]
  },
  {
   "cell_type": "markdown",
   "metadata": {},
   "source": [
    "#### Write a Python program to draw the following pattern:\n",
    "$$\n",
    "\\begin{array}{cccc}\n",
    "1 & & &\\\\\n",
    "2 & 3 & & \\\\\n",
    "3 & 4 & 5 & \\\\\n",
    "4 & 5 & 6 & 7\n",
    "\\end{array}\n",
    "$$"
   ]
  },
  {
   "cell_type": "code",
   "execution_count": 15,
   "metadata": {},
   "outputs": [
    {
     "name": "stdout",
     "output_type": "stream",
     "text": [
      "Enter no.of lines: 4\n",
      "1 \n",
      "\n",
      "2 3 \n",
      "\n",
      "3 4 5 \n",
      "\n",
      "4 5 6 7 \n",
      "\n"
     ]
    }
   ],
   "source": [
    "n = int(input('Enter no.of lines: '))\n",
    "for i in range(1,n+1,1):\n",
    "    for k in range(0,i,1):\n",
    "        print(k+i,end=\" \")\n",
    "    print(\"\\n\")"
   ]
  },
  {
   "cell_type": "markdown",
   "metadata": {},
   "source": [
    "#### Write a Python program to draw the following pattern:\n",
    "$$\n",
    "\\begin{array}{ccccccc}\n",
    "& & & 1 & & &\\\\\n",
    "& &2 & & 3 & &\\\\\n",
    "& 3 & & 4 & & 5 & \\\\\n",
    "4 & & 5 & & 6 &  & 7\n",
    "\\end{array}\n",
    "$$"
   ]
  },
  {
   "cell_type": "code",
   "execution_count": 20,
   "metadata": {},
   "outputs": [
    {
     "name": "stdout",
     "output_type": "stream",
     "text": [
      "Enter no.of lines: 4\n",
      "   1 \n",
      "\n",
      "  2 3 \n",
      "\n",
      " 3 4 5 \n",
      "\n",
      "4 5 6 7 \n",
      "\n"
     ]
    }
   ],
   "source": [
    "n = int(input('Enter no.of lines: '))\n",
    "for i in range(1,n+1,1):\n",
    "    for j in range((n-i),0,-1):\n",
    "        print(\" \",end=\"\")\n",
    "    for k in range(1,i+1,1):\n",
    "        print(k+i-1,end=\" \")\n",
    "    print(\"\\n\")"
   ]
  },
  {
   "cell_type": "markdown",
   "metadata": {},
   "source": [
    "#### Write a Python program to find factorial of a given integer"
   ]
  },
  {
   "cell_type": "markdown",
   "metadata": {},
   "source": [
    "##### First Version"
   ]
  },
  {
   "cell_type": "code",
   "execution_count": 21,
   "metadata": {},
   "outputs": [
    {
     "name": "stdout",
     "output_type": "stream",
     "text": [
      "Enter the number: -2\n",
      "The factorial of the number -2  is:  1\n"
     ]
    }
   ],
   "source": [
    "n = int(input('Enter the number: '))\n",
    "fact = 1\n",
    "for i in range(1,n+1):\n",
    "    fact = fact*i\n",
    "print('The factorial of the number', n,' is: ',fact)"
   ]
  },
  {
   "cell_type": "markdown",
   "metadata": {},
   "source": [
    "##### Second Version"
   ]
  },
  {
   "cell_type": "code",
   "execution_count": 22,
   "metadata": {},
   "outputs": [
    {
     "name": "stdout",
     "output_type": "stream",
     "text": [
      "Enter the number: -2\n",
      "Error: The number should be a positive integer\n"
     ]
    }
   ],
   "source": [
    "n = int(input('Enter the number: '))\n",
    "fact = 1\n",
    "if n < 0:\n",
    "    print('Error: The number should be a positive integer')\n",
    "else: \n",
    "    for i in range(1,n+1):\n",
    "        fact = fact*i\n",
    "    print('The factorial of the number', n,' is: ',fact)"
   ]
  },
  {
   "cell_type": "markdown",
   "metadata": {},
   "source": [
    "##### Second Version using sys.exit()"
   ]
  },
  {
   "cell_type": "code",
   "execution_count": 55,
   "metadata": {},
   "outputs": [
    {
     "name": "stdout",
     "output_type": "stream",
     "text": [
      "Enter the number: 6.2\n"
     ]
    },
    {
     "ename": "ValueError",
     "evalue": "invalid literal for int() with base 10: '6.2'",
     "output_type": "error",
     "traceback": [
      "\u001b[1;31m---------------------------------------------------------------------------\u001b[0m",
      "\u001b[1;31mValueError\u001b[0m                                Traceback (most recent call last)",
      "\u001b[1;32m<ipython-input-55-91497f1541e4>\u001b[0m in \u001b[0;36m<module>\u001b[1;34m\u001b[0m\n\u001b[1;32m----> 1\u001b[1;33m \u001b[0mn\u001b[0m \u001b[1;33m=\u001b[0m \u001b[0mint\u001b[0m\u001b[1;33m(\u001b[0m\u001b[0minput\u001b[0m\u001b[1;33m(\u001b[0m\u001b[1;34m'Enter the number: '\u001b[0m\u001b[1;33m)\u001b[0m\u001b[1;33m)\u001b[0m\u001b[1;33m\u001b[0m\u001b[1;33m\u001b[0m\u001b[0m\n\u001b[0m\u001b[0;32m      2\u001b[0m \u001b[0mfact\u001b[0m \u001b[1;33m=\u001b[0m \u001b[1;36m1\u001b[0m\u001b[1;33m\u001b[0m\u001b[1;33m\u001b[0m\u001b[0m\n\u001b[0;32m      3\u001b[0m \u001b[1;32mimport\u001b[0m \u001b[0msys\u001b[0m\u001b[1;33m\u001b[0m\u001b[1;33m\u001b[0m\u001b[0m\n\u001b[0;32m      4\u001b[0m \u001b[1;32mif\u001b[0m \u001b[0mn\u001b[0m \u001b[1;33m<\u001b[0m \u001b[1;36m0\u001b[0m\u001b[1;33m:\u001b[0m\u001b[1;33m\u001b[0m\u001b[1;33m\u001b[0m\u001b[0m\n\u001b[0;32m      5\u001b[0m     \u001b[0msys\u001b[0m\u001b[1;33m.\u001b[0m\u001b[0mexit\u001b[0m\u001b[1;33m(\u001b[0m\u001b[1;34m'Error: The number should be a positive integer'\u001b[0m\u001b[1;33m)\u001b[0m\u001b[1;33m\u001b[0m\u001b[1;33m\u001b[0m\u001b[0m\n",
      "\u001b[1;31mValueError\u001b[0m: invalid literal for int() with base 10: '6.2'"
     ]
    }
   ],
   "source": [
    "n = int(input('Enter the number: '))\n",
    "fact = 1\n",
    "import sys\n",
    "if n < 0:\n",
    "    sys.exit('Error: The number should be a positive integer')\n",
    "else: \n",
    "    for i in range(1,n+1):\n",
    "        fact = fact*i\n",
    "\n",
    "print('The factorial of the number', n,' is: ',fact)"
   ]
  },
  {
   "cell_type": "code",
   "execution_count": 50,
   "metadata": {},
   "outputs": [
    {
     "data": {
      "text/plain": [
       "True"
      ]
     },
     "execution_count": 50,
     "metadata": {},
     "output_type": "execute_result"
    }
   ],
   "source": [
    "(2.0).is_integer()"
   ]
  },
  {
   "cell_type": "code",
   "execution_count": 51,
   "metadata": {},
   "outputs": [
    {
     "data": {
      "text/plain": [
       "False"
      ]
     },
     "execution_count": 51,
     "metadata": {},
     "output_type": "execute_result"
    }
   ],
   "source": [
    "(4.23).is_integer()"
   ]
  },
  {
   "cell_type": "markdown",
   "metadata": {},
   "source": [
    "##### Final Version: Incorporating all the necessary checks"
   ]
  },
  {
   "cell_type": "code",
   "execution_count": 56,
   "metadata": {},
   "outputs": [
    {
     "name": "stdout",
     "output_type": "stream",
     "text": [
      "Enter the number: 6.2\n",
      "The number should be an integer\n"
     ]
    }
   ],
   "source": [
    "n = float(input('Enter the number: '))\n",
    "if n.is_integer():\n",
    "    n = int(n)\n",
    "    fact = 1\n",
    "    if n < 0:\n",
    "        print('Error: The number should be a positive integer')\n",
    "    else: \n",
    "        for i in range(1,n+1):\n",
    "            fact = fact*i\n",
    "        print('The factorial of the number', n,' is: ',fact)\n",
    "else:\n",
    "    print('The number should be an integer')"
   ]
  },
  {
   "cell_type": "markdown",
   "metadata": {},
   "source": [
    "#### Write a program to check whether a given number is Armstrong or not?\n",
    "###### A number is said to Armstrong number if sum of cubes of its digits is equal to the original number\n",
    "###### Example: 153 = 1^3 + 5^3 + 3^3"
   ]
  },
  {
   "cell_type": "code",
   "execution_count": 57,
   "metadata": {},
   "outputs": [
    {
     "name": "stdout",
     "output_type": "stream",
     "text": [
      "3\n",
      "15\n"
     ]
    }
   ],
   "source": [
    "n = 153\n",
    "print(n%10)\n",
    "print(n//10)"
   ]
  },
  {
   "cell_type": "code",
   "execution_count": 2,
   "metadata": {},
   "outputs": [
    {
     "name": "stdout",
     "output_type": "stream",
     "text": [
      "Enter a number: 153\n",
      "The given number  153  is Armstrong\n"
     ]
    }
   ],
   "source": [
    "n = input('Enter a number: ')\n",
    "nod = len(n)\n",
    "n = int(n)\n",
    "sum = 0\n",
    "nor = n\n",
    "\n",
    "for iter in range(0,nod,1):\n",
    "    digit = n%10\n",
    "    n = n//10\n",
    "    sum = sum + digit ** 3\n",
    "\n",
    "if sum == nor:\n",
    "    print('The given number ',nor,' is Armstrong')\n",
    "else:\n",
    "    print('The given number ',nor,' is not Armstrong')"
   ]
  },
  {
   "cell_type": "markdown",
   "metadata": {},
   "source": [
    "##### Python program to generate all Armstrong numbers between $100$ to $1000$."
   ]
  },
  {
   "cell_type": "code",
   "execution_count": 8,
   "metadata": {},
   "outputs": [
    {
     "name": "stdout",
     "output_type": "stream",
     "text": [
      "The number  153  is Armstrong\n",
      "The number  370  is Armstrong\n",
      "The number  371  is Armstrong\n",
      "The number  407  is Armstrong\n"
     ]
    }
   ],
   "source": [
    "for i in range(100,1000,1):\n",
    "    nod = len(str(i))\n",
    "    n = i\n",
    "    sum = 0\n",
    "    for iter in range(0,nod,1):\n",
    "        digit = n%10\n",
    "        n = n//10\n",
    "        sum = sum + digit ** 3\n",
    "    if sum == i:\n",
    "        print('The number ',i,' is Armstrong')"
   ]
  },
  {
   "cell_type": "markdown",
   "metadata": {},
   "source": [
    "#### Exercise: Write a Python program to print the Pascal Triangle\n",
    "$$\n",
    "\\begin{array}{ccccccccc}\n",
    "& & & & 1 & & & &\\\\\n",
    "& & &1 & & 1 & & &\\\\\n",
    "& & 1 & & 2 & & 1 & &\\\\\n",
    "& 1 & & 3 & & 3 &  & 1 & \\\\\n",
    "1 &  & 4 &  & 6 &  & 4 &  & 1 \\\\\n",
    "\\end{array}\n",
    "$$"
   ]
  },
  {
   "cell_type": "code",
   "execution_count": 9,
   "metadata": {},
   "outputs": [
    {
     "data": {
      "text/plain": [
       "120"
      ]
     },
     "execution_count": 9,
     "metadata": {},
     "output_type": "execute_result"
    }
   ],
   "source": [
    "# Hint you can use the facorial function from math package.\n",
    "import math\n",
    "math.factorial(5)"
   ]
  },
  {
   "cell_type": "code",
   "execution_count": 6,
   "metadata": {},
   "outputs": [
    {
     "name": "stdout",
     "output_type": "stream",
     "text": [
      "Enter the number of rows required: 10\n",
      "          1 \n",
      "\n",
      "         1 1 \n",
      "\n",
      "        1 2 1 \n",
      "\n",
      "       1 3 3 1 \n",
      "\n",
      "      1 4 6 4 1 \n",
      "\n",
      "     1 5 10 10 5 1 \n",
      "\n",
      "    1 6 15 20 15 6 1 \n",
      "\n",
      "   1 7 21 35 35 21 7 1 \n",
      "\n",
      "  1 8 28 56 70 56 28 8 1 \n",
      "\n",
      " 1 9 36 84 126 126 84 36 9 1 \n",
      "\n"
     ]
    }
   ],
   "source": [
    "import math\n",
    "\n",
    "n = int(input('Enter the number of rows required: '))\n",
    "\n",
    "for i in range(0,n):\n",
    "    for j in range(n-i,0,-1):\n",
    "        print(\" \",end=\"\")\n",
    "    for k in range(0,i+1):\n",
    "        ick = math.factorial(i)/(math.factorial(k)*math.factorial(i-k))\n",
    "        print(int(ick),end=\" \")\n",
    "    print(\"\\n\")"
   ]
  },
  {
   "cell_type": "code",
   "execution_count": null,
   "metadata": {},
   "outputs": [],
   "source": []
  }
 ],
 "metadata": {
  "kernelspec": {
   "display_name": "Python 3",
   "language": "python",
   "name": "python3"
  },
  "language_info": {
   "codemirror_mode": {
    "name": "ipython",
    "version": 3
   },
   "file_extension": ".py",
   "mimetype": "text/x-python",
   "name": "python",
   "nbconvert_exporter": "python",
   "pygments_lexer": "ipython3",
   "version": "3.8.5"
  }
 },
 "nbformat": 4,
 "nbformat_minor": 4
}
