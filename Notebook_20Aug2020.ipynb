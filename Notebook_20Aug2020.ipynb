{
 "cells": [
  {
   "cell_type": "markdown",
   "metadata": {},
   "source": [
    "## Write a Python program for reverse a number"
   ]
  },
  {
   "cell_type": "markdown",
   "metadata": {},
   "source": [
    "$$n = 123$$\n",
    "$$rn = 321$$"
   ]
  },
  {
   "cell_type": "markdown",
   "metadata": {},
   "source": [
    "$$\\text{Set } rn = 0$$\n",
    "$$\\text{Step 1: } rn = rn*10 + \\text{ reminder when n divided by } 10$$\n",
    "$$\\text{Step 2: } rn = \\left\\lfloor\\frac{n}{10}\\right\\rfloor$$\n",
    "$$\\text{Repeat Step 1 until } n > 0 \\text{ and halt the program when } n = 0$$"
   ]
  },
  {
   "cell_type": "code",
   "execution_count": 2,
   "metadata": {},
   "outputs": [
    {
     "name": "stdout",
     "output_type": "stream",
     "text": [
      "Enter the number: 12345\n",
      "The reverse number is: 54321\n"
     ]
    }
   ],
   "source": [
    "n = int(input('Enter the number: '))\n",
    "\n",
    "rn = 0\n",
    "while n > 0:\n",
    "    rn = rn*10 + n%10\n",
    "    n = n//10\n",
    "\n",
    "print('The reverse number is:',rn)"
   ]
  },
  {
   "cell_type": "markdown",
   "metadata": {},
   "source": [
    "## Write a Python program for reversing a string"
   ]
  },
  {
   "cell_type": "code",
   "execution_count": 3,
   "metadata": {},
   "outputs": [],
   "source": [
    "s = 'Prasad'"
   ]
  },
  {
   "cell_type": "code",
   "execution_count": 4,
   "metadata": {},
   "outputs": [
    {
     "data": {
      "text/plain": [
       "'dasarP'"
      ]
     },
     "execution_count": 4,
     "metadata": {},
     "output_type": "execute_result"
    }
   ],
   "source": [
    "s[::-1]"
   ]
  },
  {
   "cell_type": "code",
   "execution_count": 5,
   "metadata": {},
   "outputs": [
    {
     "name": "stdout",
     "output_type": "stream",
     "text": [
      "Enter the string: Prasad\n"
     ]
    }
   ],
   "source": [
    "s = input('Enter the string: ')"
   ]
  },
  {
   "cell_type": "code",
   "execution_count": 6,
   "metadata": {},
   "outputs": [
    {
     "name": "stdout",
     "output_type": "stream",
     "text": [
      "P\n",
      "r\n",
      "a\n",
      "s\n",
      "a\n",
      "d\n"
     ]
    }
   ],
   "source": [
    "for i in s:\n",
    "    print(i)"
   ]
  },
  {
   "cell_type": "code",
   "execution_count": 7,
   "metadata": {},
   "outputs": [],
   "source": [
    "chrs = list(s)"
   ]
  },
  {
   "cell_type": "code",
   "execution_count": 8,
   "metadata": {},
   "outputs": [
    {
     "name": "stdout",
     "output_type": "stream",
     "text": [
      "['P', 'r', 'a', 's', 'a', 'd']\n"
     ]
    }
   ],
   "source": [
    "print(chrs)"
   ]
  },
  {
   "cell_type": "code",
   "execution_count": 10,
   "metadata": {},
   "outputs": [
    {
     "name": "stdout",
     "output_type": "stream",
     "text": [
      "Enter the string: Hello!\n",
      "The reversed string is:  !olleH\n"
     ]
    }
   ],
   "source": [
    "s = input('Enter the string: ')\n",
    "rs = \"\"\n",
    "for i in s:\n",
    "    rs = i+rs\n",
    "\n",
    "print('The reversed string is: ',rs)"
   ]
  },
  {
   "cell_type": "code",
   "execution_count": 11,
   "metadata": {},
   "outputs": [
    {
     "name": "stdout",
     "output_type": "stream",
     "text": [
      "!olleH\n"
     ]
    }
   ],
   "source": [
    "print(rs)"
   ]
  },
  {
   "cell_type": "code",
   "execution_count": 20,
   "metadata": {},
   "outputs": [
    {
     "name": "stdout",
     "output_type": "stream",
     "text": [
      "Enter the stringHello!\n",
      "The reversed string is:  !olleH\n"
     ]
    }
   ],
   "source": [
    "s = input('Enter the string')\n",
    "chr = list(s)\n",
    "rs = \"\"\n",
    "for i in range(len(chr)-1,0-1,-1):\n",
    "    rs = rs+chr[i]\n",
    "\n",
    "print('The reversed string is: ',rs)"
   ]
  },
  {
   "cell_type": "code",
   "execution_count": 21,
   "metadata": {},
   "outputs": [
    {
     "data": {
      "text/plain": [
       "['H', 'e', 'l', 'l', 'o', '!']"
      ]
     },
     "execution_count": 21,
     "metadata": {},
     "output_type": "execute_result"
    }
   ],
   "source": [
    "list(s)"
   ]
  },
  {
   "cell_type": "markdown",
   "metadata": {},
   "source": [
    "## Write Python program to verify whether a given number is perfect or not?\n",
    "### A perfect number is a number which is equal to sum of its perfect divisors i.e., divisors excluding the number itself\n",
    "### Ex: Number 6: 6 = 1+2+3"
   ]
  },
  {
   "cell_type": "code",
   "execution_count": 32,
   "metadata": {},
   "outputs": [
    {
     "name": "stdout",
     "output_type": "stream",
     "text": [
      "Enter the integer number: 28\n",
      "The divisors are:  [1, 2, 4, 7, 14]\n",
      "The number 28  is perfect\n"
     ]
    }
   ],
   "source": [
    "n = int(input('Enter the integer number: '))\n",
    "divisors = []\n",
    "\n",
    "for i in range(1,n//2+1):\n",
    "    if (n%i == 0):\n",
    "        divisors.append(i)\n",
    "\n",
    "print('The divisors are: ',divisors)\n",
    "if (sum(divisors) == n):\n",
    "    print('The number',n,' is perfect')\n",
    "else:\n",
    "    print('The number',n,' is not perfect')"
   ]
  },
  {
   "cell_type": "code",
   "execution_count": 26,
   "metadata": {},
   "outputs": [
    {
     "data": {
      "text/plain": [
       "66"
      ]
     },
     "execution_count": 26,
     "metadata": {},
     "output_type": "execute_result"
    }
   ],
   "source": [
    "133//2"
   ]
  },
  {
   "cell_type": "code",
   "execution_count": 27,
   "metadata": {},
   "outputs": [
    {
     "data": {
      "text/plain": [
       "66.5"
      ]
     },
     "execution_count": 27,
     "metadata": {},
     "output_type": "execute_result"
    }
   ],
   "source": [
    "133/2"
   ]
  },
  {
   "cell_type": "code",
   "execution_count": 28,
   "metadata": {},
   "outputs": [
    {
     "data": {
      "text/plain": [
       "3"
      ]
     },
     "execution_count": 28,
     "metadata": {},
     "output_type": "execute_result"
    }
   ],
   "source": [
    "6//2"
   ]
  },
  {
   "cell_type": "markdown",
   "metadata": {},
   "source": [
    "## Modify the above code to produce perfect numbers between any two given numbers"
   ]
  },
  {
   "cell_type": "code",
   "execution_count": 38,
   "metadata": {},
   "outputs": [
    {
     "name": "stdout",
     "output_type": "stream",
     "text": [
      "Enter the first number: 100\n",
      "Enter the second number: 500\n",
      "The Perfect Numbers are:  [496]\n"
     ]
    }
   ],
   "source": [
    "n1 = int(input('Enter the first number: '))\n",
    "n2 = int(input('Enter the second number: '))\n",
    "\n",
    "perfect = []\n",
    "for n in range(n1,n2+1,1):\n",
    "    sum = 0\n",
    "    for i in range(1,n//2+1):\n",
    "        if (n%i == 0):\n",
    "            sum = sum + i\n",
    "    if (sum == n):\n",
    "        perfect.append(n)\n",
    "\n",
    "print('The Perfect Numbers are: ',perfect)"
   ]
  },
  {
   "cell_type": "markdown",
   "metadata": {},
   "source": [
    "## Write a Python function program which accepts a list of values and returns the two separate lists one containing the even numbers and other containing the odd numbers. The program should also return the maximum and minimum in both lists.\n",
    "\n",
    "## Write a Python function program which accepts two points (represented as lists/tuples) and returns the Euclidian distance between them.\n",
    "\n",
    "#### $$ Euclidian\\,distance\\,between\\,(x_1,x_2,x_3,\\dotsc,x_n)\\,and\\,(y_1,y_2,y_3,\\dotsc,y_n) is$$ $$\\sqrt{(x_1-y_1)^2+(x_2-y_2)^2+(x_3-y_3)^2+\\dotsc+(x_n-y_n)^2}$$\n",
    "\n",
    "## Sum of first natural numbers (using while loop)"
   ]
  },
  {
   "cell_type": "code",
   "execution_count": null,
   "metadata": {},
   "outputs": [],
   "source": []
  }
 ],
 "metadata": {
  "kernelspec": {
   "display_name": "Python 3",
   "language": "python",
   "name": "python3"
  },
  "language_info": {
   "codemirror_mode": {
    "name": "ipython",
    "version": 3
   },
   "file_extension": ".py",
   "mimetype": "text/x-python",
   "name": "python",
   "nbconvert_exporter": "python",
   "pygments_lexer": "ipython3",
   "version": "3.8.5"
  }
 },
 "nbformat": 4,
 "nbformat_minor": 4
}
